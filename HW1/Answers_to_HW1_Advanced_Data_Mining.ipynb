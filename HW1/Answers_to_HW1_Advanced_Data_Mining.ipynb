{
  "nbformat": 4,
  "nbformat_minor": 0,
  "metadata": {
    "colab": {
      "provenance": [],
      "authorship_tag": "ABX9TyM9CGL3ts4jsJek3WrS46Fa",
      "include_colab_link": true
    },
    "kernelspec": {
      "name": "python3",
      "display_name": "Python 3"
    },
    "language_info": {
      "name": "python"
    }
  },
  "cells": [
    {
      "cell_type": "markdown",
      "metadata": {
        "id": "view-in-github",
        "colab_type": "text"
      },
      "source": [
        "<a href=\"https://colab.research.google.com/github/FAtheme/AdvancedDataMining-KHU-Fall2024/blob/main/HW1/Answers_to_HW1_Advanced_Data_Mining.ipynb\" target=\"_parent\"><img src=\"https://colab.research.google.com/assets/colab-badge.svg\" alt=\"Open In Colab\"/></a>"
      ]
    },
    {
      "cell_type": "markdown",
      "source": [
        "# Submission Instructions\n",
        "\n",
        "You can complete your homework in one of the following ways:  \n",
        "\n",
        "1. **Google Colab:** Complete your homework on Google Colab and email the link to your Colab notebook.  \n",
        "   - Ensure the link is set to **Anyone with the link can view** before sending.  \n",
        "\n",
        "2. **Jupyter Notebook:** Alternatively, you may complete your homework in a Jupyter Notebook and attach the file directly to your email.  \n",
        "\n",
        "Send your submission to the following email address: **adm.kharazmi@gmail.com**\n",
        "\n",
        "Title of the notebook and email should be **HW1 - Full Name** (replace \"Full Name\" with your actual name).\n",
        "\n",
        "## Deadline:\n",
        "\n",
        "Submit your homework by **Sunday, December 8, 2024, at 11:59 PM**.\n",
        "\n",
        "**Late submissions will not be accepted and you will lose score**, so please ensure you meet the deadline."
      ],
      "metadata": {
        "id": "Fax0JUXO44ha"
      }
    },
    {
      "cell_type": "markdown",
      "source": [
        "# Variables"
      ],
      "metadata": {
        "id": "05S9eJmRxSnq"
      }
    },
    {
      "cell_type": "markdown",
      "source": [
        "As a warm-up, run the following code and enter your **Full Name**.\n",
        "\n"
      ],
      "metadata": {
        "id": "SySiJz9FxmMD"
      }
    },
    {
      "cell_type": "code",
      "execution_count": null,
      "metadata": {
        "id": "bH5zihk-w7m4",
        "colab": {
          "base_uri": "https://localhost:8080/"
        },
        "outputId": "072105a5-5e9e-4222-f42c-e67aa5764d14"
      },
      "outputs": [
        {
          "output_type": "stream",
          "name": "stdout",
          "text": [
            "What is your name? John Doe\n",
            "Hello John Doe , welcome to Kharazmi University!\n"
          ]
        }
      ],
      "source": [
        "name = input(\"What is your name? \")\n",
        "print(\"Hello\", name, \", welcome to Kharazmi University!\")"
      ]
    },
    {
      "cell_type": "markdown",
      "source": [
        "## Exercise 1\n",
        "Declare a variable to store your `<year of birth>`\n",
        "\n",
        "Print this sentence:\n",
        "\n",
        "My name is `<name>` and I was born in `<year of birth>`."
      ],
      "metadata": {
        "id": "QdAAVLlx1Kiv"
      }
    },
    {
      "cell_type": "code",
      "source": [
        "year_of_birth = 1995 #example\n",
        "print(\"My name is {} and I was born in {}.\".format(name, year_of_birth))"
      ],
      "metadata": {
        "id": "cVYF7Xci3eqq",
        "colab": {
          "base_uri": "https://localhost:8080/"
        },
        "outputId": "f4fd2b42-e3eb-402b-d757-702e324bbecf"
      },
      "execution_count": null,
      "outputs": [
        {
          "output_type": "stream",
          "name": "stdout",
          "text": [
            "My name is John Doe and I was born in 1995.\n"
          ]
        }
      ]
    },
    {
      "cell_type": "markdown",
      "source": [
        "Subtract `<year of birth>` from 2024 and put the result in a new variable named `<age>`.\n",
        "\n",
        "Print the following sentence:\n",
        "\n",
        "I am `<age>` years old."
      ],
      "metadata": {
        "id": "7TtWa6EI3jzx"
      }
    },
    {
      "cell_type": "code",
      "source": [
        "age = 2024 - year_of_birth\n",
        "print(\"I am\", age, \"years old.\")"
      ],
      "metadata": {
        "id": "2HLecOm33jPE",
        "colab": {
          "base_uri": "https://localhost:8080/"
        },
        "outputId": "c56bbe26-23fc-48e8-adf1-8486c19b0993"
      },
      "execution_count": null,
      "outputs": [
        {
          "output_type": "stream",
          "name": "stdout",
          "text": [
            "I am 29 years old.\n"
          ]
        }
      ]
    },
    {
      "cell_type": "markdown",
      "source": [
        "## Exercise 2\n",
        "Get a date from standard input using input() call. Consider `yyyy-mm-dd` as date format (you don't need to check date format).\n",
        "\n",
        "Split the date into three terms using str.split() calls and store them into three variables. Then cast those variables from string to integer using type\n",
        "casting.\n",
        "\n",
        "Then print them like :\n",
        "\n",
        "year : `<year>`\n",
        "\n",
        "month : `<month>`\n",
        "\n",
        "day : `<day>`\n",
        "\n",
        "Use just one print function per line."
      ],
      "metadata": {
        "id": "kN4ehPMuzgRK"
      }
    },
    {
      "cell_type": "code",
      "source": [
        "date = input(\"Enter a date in yyyy-mm-dd format: \")\n",
        "\n",
        "year, month, day = date.split(\"-\")\n",
        "\n",
        "year = int(year)\n",
        "month = int(month)\n",
        "day = int(day)\n",
        "\n",
        "print(\"year:\", year)\n",
        "print(\"month:\", month)\n",
        "print(\"day:\", day)"
      ],
      "metadata": {
        "colab": {
          "base_uri": "https://localhost:8080/"
        },
        "id": "hUYEsZiH0u1j",
        "outputId": "a1c1a06d-5afb-439e-ad13-1c944480ed09"
      },
      "execution_count": null,
      "outputs": [
        {
          "output_type": "stream",
          "name": "stdout",
          "text": [
            "Enter a date in yyyy-mm-dd format: 2024-12-17\n",
            "year: 2024\n",
            "month: 12\n",
            "day: 17\n"
          ]
        }
      ]
    },
    {
      "cell_type": "markdown",
      "source": [
        "Get a date input as `yyyy-mm-dd`. Then translate it to `mm/dd/yy` format. You have to just pick two least significant digits for year\n",
        "term.\n",
        "\n",
        "Example:\n",
        "\n",
        "2024-11-27  --->  11/27/24"
      ],
      "metadata": {
        "id": "zjvHHSWNze4-"
      }
    },
    {
      "cell_type": "code",
      "source": [
        "date = input(\"Enter a date in yyyy-mm-dd format: \")\n",
        "\n",
        "year, month, day = date.split(\"-\")\n",
        "\n",
        "print(month + \"/\" + day + \"/\" + year[-2:])"
      ],
      "metadata": {
        "colab": {
          "base_uri": "https://localhost:8080/"
        },
        "id": "dTkVLNkM86OV",
        "outputId": "939633d6-a8c0-4cf4-9db8-60bd4d5e3e75"
      },
      "execution_count": null,
      "outputs": [
        {
          "output_type": "stream",
          "name": "stdout",
          "text": [
            "Enter a date in yyyy-mm-dd format: 2024-12-17\n",
            "12/17/24\n"
          ]
        }
      ]
    },
    {
      "cell_type": "markdown",
      "source": [
        "# Operators"
      ],
      "metadata": {
        "id": "5AS4Wr_1EZx5"
      }
    },
    {
      "cell_type": "markdown",
      "source": [
        "## Exercise 3\n",
        "\n",
        "Create two variables with values 20 and 10:\n",
        "\n",
        "Use arithmetic operators to calculate and print the:\n",
        "1. sum\n",
        "2. difference\n",
        "3. product\n",
        "4. quotient\n",
        "5. remainder\n",
        "\n",
        "of the two variables."
      ],
      "metadata": {
        "id": "_lqGIzpiD0M3"
      }
    },
    {
      "cell_type": "code",
      "source": [
        "a = 20\n",
        "b = 10\n",
        "sum_result = a + b\n",
        "diff_result = a - b\n",
        "prod_result = a * b\n",
        "quot_result = a / b\n",
        "rem_result = a % b\n",
        "\n",
        "print(sum_result, diff_result, prod_result, quot_result, rem_result)"
      ],
      "metadata": {
        "id": "vQPQ8odsF1Yv",
        "colab": {
          "base_uri": "https://localhost:8080/"
        },
        "outputId": "b0da9867-467f-4da0-9413-407042617bb0"
      },
      "execution_count": null,
      "outputs": [
        {
          "output_type": "stream",
          "name": "stdout",
          "text": [
            "30 10 200 2.0 0\n"
          ]
        }
      ]
    },
    {
      "cell_type": "markdown",
      "source": [
        "Expected Output:\n",
        "\n",
        "\n",
        "```\n",
        "30 10 200 2 0\n",
        "```\n",
        "\n"
      ],
      "metadata": {
        "id": "aVtKEFadF3Qv"
      }
    },
    {
      "cell_type": "markdown",
      "source": [
        "## Exercise 4\n",
        "\n",
        "Given two boolean variables a = True and b = False:\n",
        "\n",
        "Evaluate and print the results of the following logical expressions: a and b, a or b, not a, and a != b."
      ],
      "metadata": {
        "id": "KPb9mbMSF31U"
      }
    },
    {
      "cell_type": "code",
      "source": [
        "a = True\n",
        "b = False\n",
        "result_and = a and b\n",
        "result_or = a or b\n",
        "result_not_a = not a\n",
        "result_xor = a != b\n",
        "\n",
        "print(result_and, result_or, result_not_a, result_xor)"
      ],
      "metadata": {
        "id": "UGOYfHpvIeOX",
        "colab": {
          "base_uri": "https://localhost:8080/"
        },
        "outputId": "b652679e-c9b5-49b8-a20b-7eb454b9d8f2"
      },
      "execution_count": null,
      "outputs": [
        {
          "output_type": "stream",
          "name": "stdout",
          "text": [
            "False True False True\n"
          ]
        }
      ]
    },
    {
      "cell_type": "markdown",
      "source": [
        "Expected Output:\n",
        "\n",
        "```\n",
        "False True False True\n",
        "```\n",
        "\n"
      ],
      "metadata": {
        "id": "nmvXEG-gIoPC"
      }
    },
    {
      "cell_type": "markdown",
      "source": [
        "## Exercise 5\n",
        "\n",
        "Use comparison operators to compare two strings str1 = 'summer' and str2 = 'winter'.\n",
        "\n",
        "Print the results of the following comparisons: str1 == str2, str1 != str2, str1 > str2, and str1 < str2."
      ],
      "metadata": {
        "id": "p1FVUdgtIoVw"
      }
    },
    {
      "cell_type": "code",
      "source": [
        "str1 = 'summer'\n",
        "str2 = 'winter'\n",
        "comparison_eq = str1 == str2\n",
        "comparison_neq = str1 != str2\n",
        "comparison_gt = str1 > str2\n",
        "comparison_lt = str1 < str2\n",
        "\n",
        "print(comparison_eq, comparison_neq, comparison_gt, comparison_lt)"
      ],
      "metadata": {
        "id": "4F2pLNTnJNnp",
        "colab": {
          "base_uri": "https://localhost:8080/"
        },
        "outputId": "97f0c5bc-c1d2-434f-cdb0-c269169d3288"
      },
      "execution_count": null,
      "outputs": [
        {
          "output_type": "stream",
          "name": "stdout",
          "text": [
            "False True False True\n"
          ]
        }
      ]
    },
    {
      "cell_type": "markdown",
      "source": [
        "Expected Output:\n",
        "\n",
        "\n",
        "```\n",
        "False True False True\n",
        "```\n",
        "\n"
      ],
      "metadata": {
        "id": "09UQHOzKJPIj"
      }
    }
  ]
}